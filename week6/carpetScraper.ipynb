{
 "cells": [
  {
   "cell_type": "code",
   "execution_count": 2,
   "id": "b33cde67-467f-4ea2-ad9f-7dfaf0d938a2",
   "metadata": {},
   "outputs": [
    {
     "name": "stdout",
     "output_type": "stream",
     "text": [
      "Requirement already satisfied: requests in /Library/Frameworks/Python.framework/Versions/3.11/lib/python3.11/site-packages (2.28.2)\n",
      "Requirement already satisfied: charset-normalizer<4,>=2 in /Library/Frameworks/Python.framework/Versions/3.11/lib/python3.11/site-packages (from requests) (3.0.1)\n",
      "Requirement already satisfied: idna<4,>=2.5 in /Library/Frameworks/Python.framework/Versions/3.11/lib/python3.11/site-packages (from requests) (3.4)\n",
      "Requirement already satisfied: urllib3<1.27,>=1.21.1 in /Library/Frameworks/Python.framework/Versions/3.11/lib/python3.11/site-packages (from requests) (1.26.14)\n",
      "Requirement already satisfied: certifi>=2017.4.17 in /Library/Frameworks/Python.framework/Versions/3.11/lib/python3.11/site-packages (from requests) (2022.12.7)\n",
      "\n",
      "\u001b[1m[\u001b[0m\u001b[34;49mnotice\u001b[0m\u001b[1;39;49m]\u001b[0m\u001b[39;49m A new release of pip available: \u001b[0m\u001b[31;49m22.3.1\u001b[0m\u001b[39;49m -> \u001b[0m\u001b[32;49m23.1.2\u001b[0m\n",
      "\u001b[1m[\u001b[0m\u001b[34;49mnotice\u001b[0m\u001b[1;39;49m]\u001b[0m\u001b[39;49m To update, run: \u001b[0m\u001b[32;49mpip3 install --upgrade pip\u001b[0m\n",
      "Note: you may need to restart the kernel to use updated packages.\n"
     ]
    }
   ],
   "source": [
    "%pip install requests"
   ]
  },
  {
   "cell_type": "code",
   "execution_count": 3,
   "id": "e0bbbb1c-fcb8-423d-b3cc-6afb173572f9",
   "metadata": {},
   "outputs": [
    {
     "name": "stdout",
     "output_type": "stream",
     "text": [
      "Requirement already satisfied: beautifulsoup4 in /Library/Frameworks/Python.framework/Versions/3.11/lib/python3.11/site-packages (4.12.2)\n",
      "Requirement already satisfied: soupsieve>1.2 in /Library/Frameworks/Python.framework/Versions/3.11/lib/python3.11/site-packages (from beautifulsoup4) (2.4.1)\n",
      "\n",
      "\u001b[1m[\u001b[0m\u001b[34;49mnotice\u001b[0m\u001b[1;39;49m]\u001b[0m\u001b[39;49m A new release of pip available: \u001b[0m\u001b[31;49m22.3.1\u001b[0m\u001b[39;49m -> \u001b[0m\u001b[32;49m23.1.2\u001b[0m\n",
      "\u001b[1m[\u001b[0m\u001b[34;49mnotice\u001b[0m\u001b[1;39;49m]\u001b[0m\u001b[39;49m To update, run: \u001b[0m\u001b[32;49mpip3 install --upgrade pip\u001b[0m\n",
      "Note: you may need to restart the kernel to use updated packages.\n"
     ]
    }
   ],
   "source": [
    "%pip install beautifulsoup4"
   ]
  },
  {
   "cell_type": "code",
   "execution_count": 4,
   "id": "839a471a-779c-4d50-94d1-7bb55c9f2eba",
   "metadata": {},
   "outputs": [],
   "source": [
    "import requests\n",
    "from bs4 import BeautifulSoup"
   ]
  },
  {
   "cell_type": "code",
   "execution_count": 29,
   "id": "1954e8d3-d8c1-4628-951d-7d5969ad4b71",
   "metadata": {},
   "outputs": [],
   "source": [
    "# url = 'https://www.megerianrugs.com/shop'  # Replace with the URL of the website\n",
    "url = \"https://www.megerianrugs.com/shop?Collection=Antique\"\n",
    "# url = \"https://www.megerianrugs.com/shop?Collection=Savonneries\"\n",
    "# url = \"https://www.megerianrugs.com/shop?Collection=Sultanabad\"\n",
    "response = requests.get(url)"
   ]
  },
  {
   "cell_type": "code",
   "execution_count": 30,
   "id": "7a6b7eed-71f3-49b8-bc98-b3e63840aa6e",
   "metadata": {},
   "outputs": [],
   "source": [
    "soup = BeautifulSoup(response.content, 'html.parser')\n",
    "image_tags = soup.find_all('img')"
   ]
  },
  {
   "cell_type": "code",
   "execution_count": 31,
   "id": "b79cb37d-6cce-4324-904f-5a3924282799",
   "metadata": {},
   "outputs": [],
   "source": [
    "soup = BeautifulSoup(response.content, 'html.parser')\n",
    "image_tags = soup.find_all('img')"
   ]
  },
  {
   "cell_type": "code",
   "execution_count": 32,
   "id": "291c19a1-fb22-44d8-a98d-ffd1404bb337",
   "metadata": {},
   "outputs": [],
   "source": [
    "image_urls = []\n",
    "for img in image_tags:\n",
    "    src = img.get('src')\n",
    "    if src:\n",
    "        image_urls.append(src)"
   ]
  },
  {
   "cell_type": "code",
   "execution_count": 33,
   "id": "3fa6eeed-f95e-49ff-a2e9-c955714b20cc",
   "metadata": {},
   "outputs": [],
   "source": [
    "for url in image_urls:\n",
    "    response = requests.get(url)\n",
    "    # Extract the filename from the URL or use a custom naming scheme\n",
    "    filename = url.split('/')[-1]\n",
    "    with open(filename, 'wb') as f:\n",
    "        f.write(response.content)\n"
   ]
  },
  {
   "cell_type": "markdown",
   "id": "01b1ebba-df02-4dbe-8d38-6accf5f6cacb",
   "metadata": {},
   "source": [
    "## Selenium"
   ]
  }
 ],
 "metadata": {
  "kernelspec": {
   "display_name": "Python 3 (ipykernel)",
   "language": "python",
   "name": "python3"
  },
  "language_info": {
   "codemirror_mode": {
    "name": "ipython",
    "version": 3
   },
   "file_extension": ".py",
   "mimetype": "text/x-python",
   "name": "python",
   "nbconvert_exporter": "python",
   "pygments_lexer": "ipython3",
   "version": "3.11.1"
  }
 },
 "nbformat": 4,
 "nbformat_minor": 5
}
